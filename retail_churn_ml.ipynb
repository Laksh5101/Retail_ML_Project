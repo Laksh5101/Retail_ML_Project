{
 "cells": [
  {
   "cell_type": "markdown",
   "id": "f5dc6698",
   "metadata": {},
   "source": [
    "# Retail Analytics & Churn Prediction (SQL + Excel + Tableau + ML)\n",
    "\n",
    "Run this notebook to train churn models and export `customer_scored.csv` for Tableau."
   ]
  },
  {
   "cell_type": "code",
   "execution_count": null,
   "id": "2a0db0ba",
   "metadata": {},
   "outputs": [],
   "source": [
    "import pandas as pd\n",
    "import numpy as np\n",
    "from pathlib import Path\n",
    "from datetime import datetime\n",
    "from sklearn.model_selection import train_test_split\n",
    "from sklearn.compose import ColumnTransformer\n",
    "from sklearn.preprocessing import OneHotEncoder, StandardScaler\n",
    "from sklearn.pipeline import Pipeline\n",
    "from sklearn.impute import SimpleImputer\n",
    "from sklearn.metrics import classification_report, roc_auc_score, RocCurveDisplay\n",
    "from sklearn.linear_model import LogisticRegression\n",
    "from sklearn.ensemble import RandomForestClassifier\n",
    "import matplotlib.pyplot as plt\n",
    "DATA_DIR = Path('..') / 'data'\n",
    "features = pd.read_csv(DATA_DIR / 'customer_features.csv', parse_dates=['signup_date','last_purchase_date'])\n",
    "features.head()"
   ]
  },
  {
   "cell_type": "markdown",
   "id": "0abf3afc",
   "metadata": {},
   "source": [
    "## Prepare Features & Target"
   ]
  },
  {
   "cell_type": "code",
   "execution_count": null,
   "id": "00a18ac0",
   "metadata": {},
   "outputs": [],
   "source": [
    "use_cols = ['region','channel','segment','age','tenure_days','recency_days','frequency','monetary','avg_order_value','churned']\n",
    "df = features[use_cols].copy()\n",
    "X = df.drop('churned', axis=1)\n",
    "y = df['churned'].astype(int)\n",
    "num_cols = ['age','tenure_days','recency_days','frequency','monetary','avg_order_value']\n",
    "cat_cols = ['region','channel','segment']\n",
    "numeric_tf = Pipeline([('impute', SimpleImputer(strategy='median')), ('scale', StandardScaler())])\n",
    "categorical_tf = Pipeline([('impute', SimpleImputer(strategy='most_frequent')), ('onehot', OneHotEncoder(handle_unknown='ignore'))])\n",
    "preprocess = ColumnTransformer([('num', numeric_tf, num_cols), ('cat', categorical_tf, cat_cols)])\n",
    "X_train, X_test, y_train, y_test = train_test_split(X, y, test_size=0.25, random_state=42, stratify=y)\n",
    "X_train.shape, X_test.shape"
   ]
  },
  {
   "cell_type": "markdown",
   "id": "463de667",
   "metadata": {},
   "source": [
    "## Logistic Regression"
   ]
  },
  {
   "cell_type": "code",
   "execution_count": null,
   "id": "4bbac00e",
   "metadata": {},
   "outputs": [],
   "source": [
    "lr = Pipeline([('preprocess', preprocess), ('model', LogisticRegression(max_iter=1000))])\n",
    "lr.fit(X_train, y_train)\n",
    "proba_lr = lr.predict_proba(X_test)[:,1]\n",
    "pred_lr = (proba_lr>=0.5).astype(int)\n",
    "print(classification_report(y_test, pred_lr))\n",
    "print('ROC AUC:', roc_auc_score(y_test, proba_lr))\n",
    "RocCurveDisplay.from_predictions(y_test, proba_lr)\n",
    "plt.title('Logistic Regression ROC')\n",
    "plt.show()"
   ]
  },
  {
   "cell_type": "markdown",
   "id": "5ee86d7c",
   "metadata": {},
   "source": [
    "## Random Forest"
   ]
  },
  {
   "cell_type": "code",
   "execution_count": null,
   "id": "986918ce",
   "metadata": {},
   "outputs": [],
   "source": [
    "rf = Pipeline([('preprocess', preprocess), ('model', RandomForestClassifier(n_estimators=300, max_depth=None, min_samples_split=4, min_samples_leaf=2, random_state=42))])\n",
    "rf.fit(X_train, y_train)\n",
    "proba_rf = rf.predict_proba(X_test)[:,1]\n",
    "pred_rf = (proba_rf>=0.5).astype(int)\n",
    "print(classification_report(y_test, pred_rf))\n",
    "print('ROC AUC:', roc_auc_score(y_test, proba_rf))\n",
    "RocCurveDisplay.from_predictions(y_test, proba_rf)\n",
    "plt.title('Random Forest ROC')\n",
    "plt.show()"
   ]
  },
  {
   "cell_type": "markdown",
   "id": "e54a4f5b",
   "metadata": {},
   "source": [
    "## Feature Importance"
   ]
  },
  {
   "cell_type": "code",
   "execution_count": null,
   "id": "e13fd248",
   "metadata": {},
   "outputs": [],
   "source": [
    "ohe = rf.named_steps['preprocess'].named_transformers_['cat'].named_steps['onehot']\n",
    "cat_names = ohe.get_feature_names_out(categorical_features=['region','channel','segment'])\n",
    "feature_names = np.r_[['age','tenure_days','recency_days','frequency','monetary','avg_order_value'], cat_names]\n",
    "importances = rf.named_steps['model'].feature_importances_\n",
    "imp = pd.DataFrame({'feature': feature_names, 'importance': importances}).sort_values('importance', ascending=False)\n",
    "imp.head(20)\n",
    "plt.figure()\n",
    "plt.barh(imp['feature'][:20][::-1], imp['importance'][:20][::-1])\n",
    "plt.title('Top 20 Features')\n",
    "plt.tight_layout()\n",
    "plt.show()"
   ]
  },
  {
   "cell_type": "markdown",
   "id": "764fcfa4",
   "metadata": {},
   "source": [
    "## Export scored dataset for Tableau"
   ]
  },
  {
   "cell_type": "code",
   "execution_count": null,
   "id": "da344b73",
   "metadata": {},
   "outputs": [],
   "source": [
    "from sklearn.metrics import roc_auc_score\n",
    "auc_lr = roc_auc_score(y_test, proba_lr)\n",
    "auc_rf = roc_auc_score(y_test, proba_rf)\n",
    "best = rf if auc_rf >= auc_lr else lr\n",
    "proba_all = best.predict_proba(X)[:,1]\n",
    "scored = features.assign(churn_probability=proba_all)\n",
    "scored.to_csv(DATA_DIR / 'customer_scored.csv', index=False)\n",
    "scored.head()"
   ]
  }
 ],
 "metadata": {},
 "nbformat": 4,
 "nbformat_minor": 5
}
